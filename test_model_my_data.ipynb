{
 "cells": [
  {
   "cell_type": "code",
   "execution_count": 73,
   "metadata": {},
   "outputs": [],
   "source": [
    "from datamodule import Datamodule\n",
    "from models.cnn8 import CNN8simple\n",
    "from models.mlp import MLPsimple\n",
    "\n",
    "from pathlib import Path\n",
    "import numpy as np\n",
    "\n",
    "import torch"
   ]
  },
  {
   "cell_type": "code",
   "execution_count": 78,
   "metadata": {},
   "outputs": [],
   "source": [
    "params = {}\n",
    "params['BFD_enc'] = {'batch_norm': True,'batch_size': 16,'dropout': 0.4,'lr': 0.001,'negative_slope': 0.05}\n",
    "params['BFD_gray'] = {'batch_norm': False,'batch_size': 16,'dropout': 0.4,'lr': 0.001,'negative_slope': 0.1}\n",
    "params['BFD_rgb'] = {'batch_norm': False,'batch_size': 8,'dropout': 0.0,'lr': 0.00005,'negative_slope': 0.02}\n",
    "params['ChaLearn_enc'] = {'batch_norm': False,'batch_size': 4,'dropout': 0.3,'lr': 0.001,'negative_slope': 0.1}\n",
    "params['ChaLearn_gray'] = {'batch_norm': True,'batch_size': 4,'dropout': 0.0,'lr': 0.001,'negative_slope': 0.01}\n",
    "params['ChaLearn_rgb'] = {'batch_norm': False,'batch_size': 8,'dropout': 0.0,'lr': 0.00005,'negative_slope': 0.1}"
   ]
  },
  {
   "cell_type": "code",
   "execution_count": 79,
   "metadata": {},
   "outputs": [
    {
     "name": "stdout",
     "output_type": "stream",
     "text": [
      "file: data/DENTA/BFD/enc/test/test.pickle\n",
      "BFD_enc\n",
      "Gdy same 1\n",
      "[0.65853659 0.7804878  0.75609756 0.29268293 0.70731707]\n",
      "0.6390243902439025\n",
      "Predykcja:\n",
      "[0.6097561  0.7804878  0.73170732 0.29268293 0.65853659]\n",
      "0.6146341463414634\n",
      "----------------------------------------------------------\n",
      "\n",
      "file: data/DENTA/BFD/gray/test/test.pickle\n",
      "BFD_gray\n",
      "Gdy same 1\n",
      "[0.65853659 0.7804878  0.75609756 0.29268293 0.70731707]\n",
      "0.6390243902439025\n",
      "Predykcja:\n",
      "[0.65853659 0.7804878  0.75609756 0.56097561 0.58536585]\n",
      "0.6682926829268293\n",
      "----------------------------------------------------------\n",
      "\n",
      "file: data/DENTA/BFD/rgb/test/test.pickle\n",
      "BFD_rgb\n",
      "Gdy same 1\n",
      "[0.65853659 0.7804878  0.75609756 0.29268293 0.70731707]\n",
      "0.6390243902439025\n",
      "Predykcja:\n",
      "[0.63414634 0.80487805 0.75609756 0.34146341 0.75609756]\n",
      "0.6585365853658537\n",
      "----------------------------------------------------------\n",
      "\n",
      "file: data/DENTA/ChaLearn/enc/test/test.pickle\n",
      "ChaLearn_enc\n",
      "Gdy same 1\n",
      "[0.65853659 0.7804878  0.75609756 0.29268293 0.70731707]\n",
      "0.6390243902439025\n",
      "Predykcja:\n",
      "[0.58536585 0.7804878  0.65853659 0.3902439  0.73170732]\n",
      "0.6292682926829268\n",
      "----------------------------------------------------------\n",
      "\n",
      "file: data/DENTA/ChaLearn/rgb/test/test.pickle\n",
      "ChaLearn_rgb\n",
      "Gdy same 1\n",
      "[0.65853659 0.7804878  0.75609756 0.29268293 0.70731707]\n",
      "0.6390243902439025\n",
      "Predykcja:\n",
      "[0.41463415 0.70731707 0.70731707 0.41463415 0.41463415]\n",
      "0.5317073170731706\n",
      "----------------------------------------------------------\n",
      "\n"
     ]
    }
   ],
   "source": [
    "for model_name, value in params.items():\n",
    "    \n",
    "    dataset_name = model_name.split('_')[0]\n",
    "    dataset_version = model_name.split('_')[1]\n",
    "    \n",
    "    model = torch.load(f'model/k_cross/{model_name}.pt')\n",
    "    model.eval()\n",
    "    \n",
    "    test_data_path = Path(f'data/DENTA/{dataset_name}/{dataset_version}/test/')\n",
    "    dm = Datamodule(batch_size=41, val_dir=test_data_path)\n",
    "    dm.setup(val_only=True)\n",
    "    print(model_name)\n",
    "    \n",
    "    for batch in dm.val_dataloader():\n",
    "        norm_data = 'original' if dataset_version=='enc' else 'normalized'\n",
    "        X, Y = batch[norm_data], batch['label']\n",
    "        Y_pred = model(X.cuda())\n",
    "        Y_pred = Y_pred.cpu()\n",
    "        Y_pred = np.where(Y_pred > 0.0, 1, 0)\n",
    "        acc_class = np.sum(Y_pred == np.array(Y), axis=0) / len(Y)\n",
    "        \n",
    "        Y_pred_1 = np.ones_like(Y)\n",
    "        acc_class_1 = np.sum(Y_pred_1 == np.array(Y), axis=0) / len(Y)\n",
    "\n",
    "    print('Gdy same 1')\n",
    "    print(acc_class_1)\n",
    "    print(acc_class_1.mean())\n",
    "\n",
    "    print('Predykcja:')\n",
    "    print(acc_class)\n",
    "    print(acc_class.mean())\n",
    "    print('----------------------------------------------------------')\n",
    "    print()"
   ]
  },
  {
   "cell_type": "code",
   "execution_count": null,
   "metadata": {},
   "outputs": [],
   "source": []
  }
 ],
 "metadata": {
  "interpreter": {
   "hash": "17c86be10898ce801771adcf76c16a8364cc4401ea312904bbbb2c75f131c156"
  },
  "kernelspec": {
   "display_name": "Python 3.8.5 ('ur')",
   "language": "python",
   "name": "python3"
  },
  "language_info": {
   "codemirror_mode": {
    "name": "ipython",
    "version": 3
   },
   "file_extension": ".py",
   "mimetype": "text/x-python",
   "name": "python",
   "nbconvert_exporter": "python",
   "pygments_lexer": "ipython3",
   "version": "3.8.5"
  },
  "orig_nbformat": 4
 },
 "nbformat": 4,
 "nbformat_minor": 2
}
