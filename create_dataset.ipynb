{
 "cells": [
  {
   "cell_type": "code",
   "execution_count": 1,
   "metadata": {},
   "outputs": [],
   "source": [
    "from params import RANDOM_SEED, LocationConfig, CreateDataConfig\n",
    "from sklearn.model_selection import train_test_split\n",
    "from matplotlib import pyplot as plt\n",
    "from pathlib import Path\n",
    "from tqdm import tqdm\n",
    "from PIL import Image\n",
    "import pandas as pd\n",
    "import numpy as np\n",
    "import insightface\n",
    "import fnmatch\n",
    "import pickle\n",
    "import torch\n",
    "import cv2\n",
    "import os"
   ]
  },
  {
   "cell_type": "code",
   "execution_count": 2,
   "metadata": {},
   "outputs": [
    {
     "data": {
      "text/plain": [
       "'data/BFD/enc/'"
      ]
     },
     "execution_count": 2,
     "metadata": {},
     "output_type": "execute_result"
    }
   ],
   "source": [
    "LocationConfig.data"
   ]
  },
  {
   "cell_type": "code",
   "execution_count": 33,
   "metadata": {},
   "outputs": [
    {
     "name": "stderr",
     "output_type": "stream",
     "text": [
      "42it [00:06,  6.29it/s]\n"
     ]
    }
   ],
   "source": [
    "for image_path in tqdm(Path('data/DENTA/images_original/').glob('*.jpg')):\n",
    "    img = cv2.imread(str(image_path), cv2.IMREAD_UNCHANGED)\n",
    "    scale = 640/max(img.shape)\n",
    "    width = int(img.shape[1] * scale)\n",
    "    height = int(img.shape[0] * scale)\n",
    "    dim = (width, height)\n",
    "    resized = cv2.resize(img, dim, interpolation = cv2.INTER_AREA)\n",
    "    filename = str(image_path).split('/')[-1]\n",
    "    cv2.imwrite(os.path.join(LocationConfig.images,filename), resized)"
   ]
  },
  {
   "cell_type": "code",
   "execution_count": null,
   "metadata": {},
   "outputs": [],
   "source": [
    "cols = ['VideoName', 'ValueExtraversion','ValueAgreeableness','ValueConscientiousness','ValueNeurotisicm','ValueOpenness']"
   ]
  },
  {
   "cell_type": "code",
   "execution_count": 4,
   "metadata": {},
   "outputs": [
    {
     "name": "stderr",
     "output_type": "stream",
     "text": [
      "440it [00:00, 248050.24it/s]\n"
     ]
    }
   ],
   "source": [
    "total_f=0\n",
    "for image_path in tqdm(Path(LocationConfig.images).glob('*.png')):\n",
    "    total_f += 1"
   ]
  },
  {
   "cell_type": "code",
   "execution_count": 5,
   "metadata": {},
   "outputs": [],
   "source": [
    "class FaceDetection:\n",
    "    def __init__(self, use_gpu=True):\n",
    "        self.use_gpu = use_gpu\n",
    "        self.image_size = 640\n",
    "        self.det_thresh = 0.7\n",
    "        self.detector = self._get_face_detection_model()\n",
    "\n",
    "    def _get_device_used_code(self):\n",
    "        if not self.use_gpu:\n",
    "            return -1\n",
    "        return 1\n",
    "\n",
    "    def _get_face_detection_model(self):\n",
    "        app_kwargs = {'providers': ['CPUExecutionProvider','CUDAExecutionProvider']}\n",
    "        model_detector_path = 'model/det_10g.onnx'\n",
    "        detector = insightface.model_zoo.get_model(model_detector_path, **app_kwargs)\n",
    "        detector.prepare(ctx_id=self._get_device_used_code(), det_thresh=self.det_thresh)#, input_size=(self.image_size, self.image_size))\n",
    "        return detector\n",
    "\n",
    "    def detect_face(self, img: np.ndarray) -> np.ndarray:\n",
    "        \"\"\"\n",
    "        Detects a face in an image\n",
    "\n",
    "        Parameters\n",
    "        ----------\n",
    "        img\n",
    "            Input image with a face\n",
    "        Returns\n",
    "        -------\n",
    "        Bounding box of the original face\n",
    "        \"\"\"\n",
    "        bboxes, _ = self.detector.detect(img)\n",
    "        return bboxes"
   ]
  },
  {
   "cell_type": "code",
   "execution_count": 6,
   "metadata": {},
   "outputs": [],
   "source": [
    "def create_new_data_directories():\n",
    "    Path(LocationConfig.data).mkdir(exist_ok=True, parents=True)\n",
    "    Path(LocationConfig.data + 'train').mkdir(exist_ok=True, parents=True)\n",
    "    Path(LocationConfig.data + 'test').mkdir(exist_ok=True, parents=True)\n",
    "    Path(LocationConfig.crop_images).mkdir(exist_ok=True, parents=True)\n",
    "    \n",
    "create_new_data_directories()"
   ]
  },
  {
   "cell_type": "code",
   "execution_count": 7,
   "metadata": {},
   "outputs": [],
   "source": [
    "import torchvision.transforms.functional as F\n",
    "from torchvision import transforms, datasets\n",
    "\n",
    "class SquarePad:\n",
    "    def __call__(self, image):\n",
    "        w, h = image.size\n",
    "        max_wh = 128 #np.max([w, h])\n",
    "        hp = int((243 - w) / 2) # 243 # 162\n",
    "        vp = int((311 - h) / 2) # 311 # 216\n",
    "        padding = (hp, vp, hp, vp)\n",
    "        return F.pad(image, padding, 0, 'constant')\n",
    "\n",
    "# now use it as the replacement of transforms.Pad class\n",
    "transform=transforms.Compose([\n",
    "    SquarePad(),\n",
    "    transforms.Resize((311, 243)), #311, 243 #216 x 162\n",
    "    # transforms.ToTensor(),\n",
    "    # transforms.Normalize((0.4786, 0.5226, 0.6365), (0.3238, 0.3334, 0.3707)),\n",
    "])"
   ]
  },
  {
   "cell_type": "code",
   "execution_count": 12,
   "metadata": {},
   "outputs": [],
   "source": [
    "def detect_and_crop(face_detect_app: FaceDetection, input_path: Path, output_path: str, img_num: int):\n",
    "    img = cv2.imread(str(input_path))\n",
    "    faces = face_detect_app.detect_face(img)\n",
    "    if len(faces) == 0 or len(faces) > 1:\n",
    "        return\n",
    "\n",
    "    face_box = faces[0].astype(np.int32)\n",
    "    width = (face_box[3] - face_box[1]) // 7\n",
    "    height = (face_box[2] - face_box[0]) // 7\n",
    "    \n",
    "    #Chalearn requirements:\n",
    "    # if width < 8:\n",
    "    #     return\n",
    "    # if height < 7:\n",
    "    #     return\n",
    "    \n",
    "    try:\n",
    "        new_img = img[max(face_box[1]-width, 0) : min(face_box[3]+width, img.shape[0]-1), max(face_box[0]-height, 0) : min(face_box[2]+height, img.shape[1]-1)]\n",
    "\n",
    "    except IndexError:\n",
    "        print('ROZMIAR NIE DZIALA')\n",
    "        return\n",
    "    if new_img is None:\n",
    "        return\n",
    "    new_img = transform(Image.fromarray(new_img))\n",
    "    new_img = np.array(new_img)\n",
    "    # new_img = np.transpose(new_img, (2, 1, 0))\n",
    "    filename = str(input_path).split('/')[-1]\n",
    "    filename = filename[:-3] + 'png'\n",
    "    cv2.imwrite(os.path.join(output_path,filename), new_img)"
   ]
  },
  {
   "cell_type": "code",
   "execution_count": 13,
   "metadata": {},
   "outputs": [
    {
     "name": "stdout",
     "output_type": "stream",
     "text": [
      "Applied providers: ['CPUExecutionProvider'], with options: {'CPUExecutionProvider': {}}\n"
     ]
    },
    {
     "name": "stderr",
     "output_type": "stream",
     "text": [
      "  0%|          | 0/42 [00:00<?, ?it/s]\n"
     ]
    },
    {
     "ename": "AssertionError",
     "evalue": "",
     "output_type": "error",
     "traceback": [
      "\u001b[0;31m---------------------------------------------------------------------------\u001b[0m",
      "\u001b[0;31mAssertionError\u001b[0m                            Traceback (most recent call last)",
      "\u001b[0;32m<ipython-input-13-90d303726d28>\u001b[0m in \u001b[0;36m<module>\u001b[0;34m\u001b[0m\n\u001b[1;32m      2\u001b[0m \u001b[0mi\u001b[0m\u001b[0;34m=\u001b[0m\u001b[0;36m0\u001b[0m\u001b[0;34m\u001b[0m\u001b[0;34m\u001b[0m\u001b[0m\n\u001b[1;32m      3\u001b[0m \u001b[0;32mfor\u001b[0m \u001b[0mimage_path\u001b[0m \u001b[0;32min\u001b[0m \u001b[0mtqdm\u001b[0m\u001b[0;34m(\u001b[0m\u001b[0mPath\u001b[0m\u001b[0;34m(\u001b[0m\u001b[0mLocationConfig\u001b[0m\u001b[0;34m.\u001b[0m\u001b[0mimages\u001b[0m\u001b[0;34m)\u001b[0m\u001b[0;34m.\u001b[0m\u001b[0mglob\u001b[0m\u001b[0;34m(\u001b[0m\u001b[0;34m'*.jpg'\u001b[0m\u001b[0;34m)\u001b[0m\u001b[0;34m,\u001b[0m \u001b[0mtotal\u001b[0m\u001b[0;34m=\u001b[0m\u001b[0mtotal_f\u001b[0m\u001b[0;34m)\u001b[0m\u001b[0;34m:\u001b[0m\u001b[0;34m\u001b[0m\u001b[0;34m\u001b[0m\u001b[0m\n\u001b[0;32m----> 4\u001b[0;31m     \u001b[0mdetect_and_crop\u001b[0m\u001b[0;34m(\u001b[0m\u001b[0mface_detector\u001b[0m\u001b[0;34m,\u001b[0m \u001b[0mimage_path\u001b[0m\u001b[0;34m,\u001b[0m \u001b[0mLocationConfig\u001b[0m\u001b[0;34m.\u001b[0m\u001b[0mcrop_images\u001b[0m\u001b[0;34m,\u001b[0m \u001b[0mi\u001b[0m\u001b[0;34m)\u001b[0m\u001b[0;34m\u001b[0m\u001b[0;34m\u001b[0m\u001b[0m\n\u001b[0m\u001b[1;32m      5\u001b[0m     \u001b[0mi\u001b[0m\u001b[0;34m+=\u001b[0m\u001b[0;36m1\u001b[0m\u001b[0;34m\u001b[0m\u001b[0;34m\u001b[0m\u001b[0m\n",
      "\u001b[0;32m<ipython-input-12-31b4f2d70b1a>\u001b[0m in \u001b[0;36mdetect_and_crop\u001b[0;34m(face_detect_app, input_path, output_path, img_num)\u001b[0m\n\u001b[1;32m      1\u001b[0m \u001b[0;32mdef\u001b[0m \u001b[0mdetect_and_crop\u001b[0m\u001b[0;34m(\u001b[0m\u001b[0mface_detect_app\u001b[0m\u001b[0;34m:\u001b[0m \u001b[0mFaceDetection\u001b[0m\u001b[0;34m,\u001b[0m \u001b[0minput_path\u001b[0m\u001b[0;34m:\u001b[0m \u001b[0mPath\u001b[0m\u001b[0;34m,\u001b[0m \u001b[0moutput_path\u001b[0m\u001b[0;34m:\u001b[0m \u001b[0mstr\u001b[0m\u001b[0;34m,\u001b[0m \u001b[0mimg_num\u001b[0m\u001b[0;34m:\u001b[0m \u001b[0mint\u001b[0m\u001b[0;34m)\u001b[0m\u001b[0;34m:\u001b[0m\u001b[0;34m\u001b[0m\u001b[0;34m\u001b[0m\u001b[0m\n\u001b[1;32m      2\u001b[0m     \u001b[0mimg\u001b[0m \u001b[0;34m=\u001b[0m \u001b[0mcv2\u001b[0m\u001b[0;34m.\u001b[0m\u001b[0mimread\u001b[0m\u001b[0;34m(\u001b[0m\u001b[0mstr\u001b[0m\u001b[0;34m(\u001b[0m\u001b[0minput_path\u001b[0m\u001b[0;34m)\u001b[0m\u001b[0;34m)\u001b[0m\u001b[0;34m\u001b[0m\u001b[0;34m\u001b[0m\u001b[0m\n\u001b[0;32m----> 3\u001b[0;31m     \u001b[0mfaces\u001b[0m \u001b[0;34m=\u001b[0m \u001b[0mface_detect_app\u001b[0m\u001b[0;34m.\u001b[0m\u001b[0mdetect_face\u001b[0m\u001b[0;34m(\u001b[0m\u001b[0mimg\u001b[0m\u001b[0;34m)\u001b[0m\u001b[0;34m\u001b[0m\u001b[0;34m\u001b[0m\u001b[0m\n\u001b[0m\u001b[1;32m      4\u001b[0m     \u001b[0;32mif\u001b[0m \u001b[0mlen\u001b[0m\u001b[0;34m(\u001b[0m\u001b[0mfaces\u001b[0m\u001b[0;34m)\u001b[0m \u001b[0;34m==\u001b[0m \u001b[0;36m0\u001b[0m \u001b[0;32mor\u001b[0m \u001b[0mlen\u001b[0m\u001b[0;34m(\u001b[0m\u001b[0mfaces\u001b[0m\u001b[0;34m)\u001b[0m \u001b[0;34m>\u001b[0m \u001b[0;36m1\u001b[0m\u001b[0;34m:\u001b[0m\u001b[0;34m\u001b[0m\u001b[0;34m\u001b[0m\u001b[0m\n\u001b[1;32m      5\u001b[0m         \u001b[0;32mreturn\u001b[0m\u001b[0;34m\u001b[0m\u001b[0;34m\u001b[0m\u001b[0m\n",
      "\u001b[0;32m<ipython-input-9-94127799c3be>\u001b[0m in \u001b[0;36mdetect_face\u001b[0;34m(self, img)\u001b[0m\n\u001b[1;32m     30\u001b[0m         \u001b[0mBounding\u001b[0m \u001b[0mbox\u001b[0m \u001b[0mof\u001b[0m \u001b[0mthe\u001b[0m \u001b[0moriginal\u001b[0m \u001b[0mface\u001b[0m\u001b[0;34m\u001b[0m\u001b[0;34m\u001b[0m\u001b[0m\n\u001b[1;32m     31\u001b[0m         \"\"\"\n\u001b[0;32m---> 32\u001b[0;31m         \u001b[0mbboxes\u001b[0m\u001b[0;34m,\u001b[0m \u001b[0m_\u001b[0m \u001b[0;34m=\u001b[0m \u001b[0mself\u001b[0m\u001b[0;34m.\u001b[0m\u001b[0mdetector\u001b[0m\u001b[0;34m.\u001b[0m\u001b[0mdetect\u001b[0m\u001b[0;34m(\u001b[0m\u001b[0mimg\u001b[0m\u001b[0;34m)\u001b[0m\u001b[0;34m\u001b[0m\u001b[0;34m\u001b[0m\u001b[0m\n\u001b[0m\u001b[1;32m     33\u001b[0m         \u001b[0;32mreturn\u001b[0m \u001b[0mbboxes\u001b[0m\u001b[0;34m\u001b[0m\u001b[0;34m\u001b[0m\u001b[0m\n",
      "\u001b[0;32m~/miniconda3/envs/ur/lib/python3.8/site-packages/insightface/model_zoo/retinaface.py\u001b[0m in \u001b[0;36mdetect\u001b[0;34m(self, img, input_size, max_num, metric)\u001b[0m\n\u001b[1;32m    206\u001b[0m \u001b[0;34m\u001b[0m\u001b[0m\n\u001b[1;32m    207\u001b[0m     \u001b[0;32mdef\u001b[0m \u001b[0mdetect\u001b[0m\u001b[0;34m(\u001b[0m\u001b[0mself\u001b[0m\u001b[0;34m,\u001b[0m \u001b[0mimg\u001b[0m\u001b[0;34m,\u001b[0m \u001b[0minput_size\u001b[0m \u001b[0;34m=\u001b[0m \u001b[0;32mNone\u001b[0m\u001b[0;34m,\u001b[0m \u001b[0mmax_num\u001b[0m\u001b[0;34m=\u001b[0m\u001b[0;36m0\u001b[0m\u001b[0;34m,\u001b[0m \u001b[0mmetric\u001b[0m\u001b[0;34m=\u001b[0m\u001b[0;34m'default'\u001b[0m\u001b[0;34m)\u001b[0m\u001b[0;34m:\u001b[0m\u001b[0;34m\u001b[0m\u001b[0;34m\u001b[0m\u001b[0m\n\u001b[0;32m--> 208\u001b[0;31m         \u001b[0;32massert\u001b[0m \u001b[0minput_size\u001b[0m \u001b[0;32mis\u001b[0m \u001b[0;32mnot\u001b[0m \u001b[0;32mNone\u001b[0m \u001b[0;32mor\u001b[0m \u001b[0mself\u001b[0m\u001b[0;34m.\u001b[0m\u001b[0minput_size\u001b[0m \u001b[0;32mis\u001b[0m \u001b[0;32mnot\u001b[0m \u001b[0;32mNone\u001b[0m\u001b[0;34m\u001b[0m\u001b[0;34m\u001b[0m\u001b[0m\n\u001b[0m\u001b[1;32m    209\u001b[0m         \u001b[0minput_size\u001b[0m \u001b[0;34m=\u001b[0m \u001b[0mself\u001b[0m\u001b[0;34m.\u001b[0m\u001b[0minput_size\u001b[0m \u001b[0;32mif\u001b[0m \u001b[0minput_size\u001b[0m \u001b[0;32mis\u001b[0m \u001b[0;32mNone\u001b[0m \u001b[0;32melse\u001b[0m \u001b[0minput_size\u001b[0m\u001b[0;34m\u001b[0m\u001b[0;34m\u001b[0m\u001b[0m\n\u001b[1;32m    210\u001b[0m \u001b[0;34m\u001b[0m\u001b[0m\n",
      "\u001b[0;31mAssertionError\u001b[0m: "
     ]
    }
   ],
   "source": [
    "face_detector = FaceDetection()\n",
    "i=0\n",
    "for image_path in tqdm(Path(LocationConfig.images).glob('*.jpg'), total=total_f):\n",
    "    detect_and_crop(face_detector, image_path, LocationConfig.crop_images, i)\n",
    "    i+=1"
   ]
  },
  {
   "cell_type": "code",
   "execution_count": 8,
   "metadata": {},
   "outputs": [
    {
     "name": "stdout",
     "output_type": "stream",
     "text": [
      "[30 17 10 28]\n"
     ]
    },
    {
     "name": "stderr",
     "output_type": "stream",
     "text": [
      "100%|██████████| 440/440 [00:01<00:00, 269.74it/s]\n"
     ]
    }
   ],
   "source": [
    "def create_dataset(images_path, grayscale=False):\n",
    "    df = pd.read_csv(LocationConfig.labels + 'bigfive_labels.csv', index_col=0)\n",
    "    X_train, X_test = train_test_split(\n",
    "        np.arange(1,41), #np.array(df.index), \n",
    "        test_size=CreateDataConfig.test_size_ratio,\n",
    "        random_state=3\n",
    "    )\n",
    "    print(X_test)\n",
    "    images_dict_train = {'num':[], 'X':[], 'Y':[]}\n",
    "    images_dict_test = {'num':[], 'X':[], 'Y':[]}\n",
    "    total_files = len(fnmatch.filter(os.listdir(images_path), '*.png'))\n",
    "\n",
    "    for image_path in tqdm(Path(images_path).glob('*.png'), total=total_files):\n",
    "        X = cv2.imread(str(image_path)) \n",
    "        if grayscale:\n",
    "            X = cv2.cvtColor(X, cv2.COLOR_BGR2GRAY)\n",
    "            X = np.expand_dims(X, axis=2)\n",
    "        Y = df.loc[image_path.name].values\n",
    "        if CreateDataConfig.classification:\n",
    "            Y = list(np.where(Y>CreateDataConfig.Y_threshold, 1, 0))\n",
    "        img_num = int(image_path.name.split('_')[0])\n",
    "        if img_num in X_test:\n",
    "            images_dict_test['num'].append(img_num)\n",
    "            images_dict_test['X'].append(X)\n",
    "            images_dict_test['Y'].append(Y)\n",
    "        else:\n",
    "            images_dict_train['num'].append(img_num)\n",
    "            images_dict_train['X'].append(X)\n",
    "            images_dict_train['Y'].append(Y)\n",
    "            \n",
    "    with open(LocationConfig.data + 'train/train.pickle', 'wb') as handle:\n",
    "        pickle.dump(images_dict_train, handle, protocol=pickle.HIGHEST_PROTOCOL)\n",
    "    with open(LocationConfig.data + 'test/test.pickle', 'wb') as handle:\n",
    "        pickle.dump(images_dict_test, handle, protocol=pickle.HIGHEST_PROTOCOL)\n",
    "        \n",
    "create_dataset(LocationConfig.crop_images, grayscale=True)"
   ]
  },
  {
   "cell_type": "code",
   "execution_count": 4,
   "metadata": {},
   "outputs": [
    {
     "name": "stdout",
     "output_type": "stream",
     "text": [
      "[30 17 10 28]\n"
     ]
    },
    {
     "name": "stderr",
     "output_type": "stream",
     "text": [
      "100%|██████████| 440/440 [52:17<00:00,  7.13s/it]\n"
     ]
    }
   ],
   "source": [
    "import face_recognition\n",
    "\n",
    "def create_enc(images_path):\n",
    "    df = pd.read_csv(LocationConfig.labels + 'bigfive_labels.csv', index_col=0)\n",
    "    X_train, X_test = train_test_split(\n",
    "        np.arange(1,41), #np.array(df.index), \n",
    "        test_size=CreateDataConfig.test_size_ratio,\n",
    "        random_state=3\n",
    "    )\n",
    "    print(X_test)\n",
    "    images_dict_train = {'num':[], 'X':[], 'Y':[]}\n",
    "    images_dict_test = {'num':[], 'X':[], 'Y':[]}\n",
    "    total_files = len(fnmatch.filter(os.listdir(images_path), '*.png'))\n",
    "\n",
    "    for image_path in tqdm(Path(images_path).glob('*.png'), total=total_files):\n",
    "        img = face_recognition.load_image_file(str(image_path))\n",
    "        face_locations = face_recognition.face_locations(img, model=\"cnn\")\n",
    "        codes = face_recognition.face_encodings(img, known_face_locations=face_locations, model=\"large\")\n",
    "        if len(codes) < 1:\n",
    "            continue\n",
    "        Y = df.loc[image_path.name].values\n",
    "        if CreateDataConfig.classification:\n",
    "            Y = list(np.where(Y>CreateDataConfig.Y_threshold, 1, 0))\n",
    "        img_num = int(image_path.name.split('_')[0])\n",
    "        if img_num in X_test:\n",
    "            images_dict_test['num'].append(img_num)\n",
    "            images_dict_test['X'].append(codes[0])\n",
    "            images_dict_test['Y'].append(Y)\n",
    "        else:\n",
    "            images_dict_train['num'].append(img_num)\n",
    "            images_dict_train['X'].append(codes[0])\n",
    "            images_dict_train['Y'].append(Y)\n",
    "            \n",
    "    with open(LocationConfig.data + 'train/train.pickle', 'wb') as handle:\n",
    "        pickle.dump(images_dict_train, handle, protocol=pickle.HIGHEST_PROTOCOL)\n",
    "    with open(LocationConfig.data + 'test/test.pickle', 'wb') as handle:\n",
    "        pickle.dump(images_dict_test, handle, protocol=pickle.HIGHEST_PROTOCOL)\n",
    "        \n",
    "create_enc(LocationConfig.crop_images)"
   ]
  },
  {
   "cell_type": "code",
   "execution_count": 9,
   "metadata": {},
   "outputs": [
    {
     "data": {
      "text/plain": [
       "'data/BFD/gray/test/'"
      ]
     },
     "execution_count": 9,
     "metadata": {},
     "output_type": "execute_result"
    }
   ],
   "source": [
    "LocationConfig.data + 'test/'"
   ]
  },
  {
   "cell_type": "code",
   "execution_count": 49,
   "metadata": {},
   "outputs": [
    {
     "data": {
      "image/png": "[encoded data removed]",
      "text/plain": [
       "<Figure size 432x288 with 1 Axes>"
      ]
     },
     "metadata": {
      "needs_background": "light"
     },
     "output_type": "display_data"
    }
   ],
   "source": [
    "%matplotlib inline\n",
    "#The line above is necesary to show Matplotlib's plots inside a Jupyter Notebook\n",
    "\n",
    "\n",
    "img = cv2.imread('data/BFD/crop_images/27_Conscientiousness_enhanced.png')\n",
    "#Show the image with matplotlib\n",
    "plt.imshow((cv2.cvtColor(img, cv2.COLOR_BGR2RGB)))\n",
    "plt.show()"
   ]
  },
  {
   "cell_type": "code",
   "execution_count": 11,
   "metadata": {},
   "outputs": [],
   "source": [
    "from params import RANDOM_SEED, LocationConfig, CreateDataConfig\n",
    "from sklearn.model_selection import train_test_split\n",
    "from matplotlib import pyplot as plt\n",
    "from pathlib import Path\n",
    "import face_recognition\n",
    "from tqdm import tqdm\n",
    "from PIL import Image\n",
    "import pandas as pd\n",
    "import numpy as np\n",
    "import insightface\n",
    "import fnmatch\n",
    "import pickle\n",
    "import torch\n",
    "import cv2\n",
    "import os\n",
    "\n",
    "def create_new_data_directories(path):\n",
    "    Path(path).mkdir(exist_ok=True, parents=True)\n",
    "    Path(path + 'train').mkdir(exist_ok=True, parents=True)\n",
    "    Path(path + 'test').mkdir(exist_ok=True, parents=True)\n",
    "    Path(LocationConfig.crop_images).mkdir(exist_ok=True, parents=True)\n",
    "    \n",
    "def get_short_video_name(videoNames):\n",
    "    ShortVideoName = []\n",
    "    for videoName in videoNames.values:\n",
    "        ShortVideoName.append(videoName.split('.')[0])\n",
    "    return ShortVideoName\n",
    "\n",
    "def create_mean_video_name_df(df):\n",
    "    cols = ['ValueExtraversion','ValueAgreeableness','ValueConscientiousness','ValueNeurotisicm','ValueOpenness','ShortVideoName']\n",
    "    grouped_df = df[cols].groupby('ShortVideoName')\n",
    "    mean_df = grouped_df.mean()\n",
    "    mean_df = mean_df.reset_index()\n",
    "    return mean_df\n",
    "\n",
    "\n",
    "def create_dataset_ChaLearn(images_path, end_path, grayscale=False):\n",
    "    create_new_data_directories(end_path)\n",
    "    df = pd.read_csv(LocationConfig.labels + 'bigfive_labels.csv')\n",
    "\n",
    "    df['ShortVideoName'] = get_short_video_name(df['VideoName'])\n",
    "\n",
    "    mean_df = create_mean_video_name_df(df)\n",
    "    mean_df.to_csv(LocationConfig.labels + 'bigfive_labels_mean.csv')\n",
    "    df = mean_df.set_index('ShortVideoName')\n",
    "    all_x = np.array(df.index)\n",
    "    X_train, X_test = train_test_split(\n",
    "        all_x, \n",
    "        test_size=CreateDataConfig.test_size_ratio,\n",
    "        random_state=1\n",
    "    )\n",
    "\n",
    "    images_dict_train = {'X':[], 'Y':[]}\n",
    "    images_dict_test = {'X':[], 'Y':[]}\n",
    "    total_files = len(fnmatch.filter(os.listdir(images_path), '*.png'))\n",
    "\n",
    "    for image_path in tqdm(Path(images_path).glob('*.png'), total=total_files):\n",
    "        X = cv2.imread(str(image_path)) \n",
    "        if grayscale:\n",
    "            X = cv2.cvtColor(X, cv2.COLOR_BGR2GRAY)\n",
    "            X = np.expand_dims(X, axis=2)\n",
    "        image_group = image_path.name.split('.')[0]\n",
    "        Y = df.loc[image_group].values\n",
    "        image_no = image_path.name.split('.')[2][-5:]\n",
    "        if CreateDataConfig.classification:\n",
    "            Y = list(np.where(Y>CreateDataConfig.Y_threshold, 1, 0))\n",
    "        if image_group in X_test:\n",
    "            images_dict_test['X'].append(X)\n",
    "            images_dict_test['Y'].append(Y)\n",
    "        else:\n",
    "            images_dict_train['X'].append(X)\n",
    "            images_dict_train['Y'].append(Y)\n",
    "            \n",
    "    with open(end_path + 'train/train.pickle', 'wb') as handle:\n",
    "        pickle.dump(images_dict_train, handle, protocol=pickle.HIGHEST_PROTOCOL)\n",
    "    with open(end_path + 'test/test.pickle', 'wb') as handle:\n",
    "        pickle.dump(images_dict_test, handle, protocol=pickle.HIGHEST_PROTOCOL)"
   ]
  },
  {
   "cell_type": "code",
   "execution_count": 10,
   "metadata": {},
   "outputs": [
    {
     "name": "stderr",
     "output_type": "stream",
     "text": [
      "100%|██████████| 28990/28990 [00:27<00:00, 1058.84it/s]\n"
     ]
    }
   ],
   "source": [
    "create_dataset_ChaLearn(LocationConfig.crop_images, end_path=LocationConfig.gray, grayscale=True)"
   ]
  },
  {
   "cell_type": "code",
   "execution_count": 11,
   "metadata": {},
   "outputs": [
    {
     "name": "stderr",
     "output_type": "stream",
     "text": [
      "100%|██████████| 28990/28990 [00:32<00:00, 904.08it/s] \n"
     ]
    }
   ],
   "source": [
    "create_dataset_ChaLearn(LocationConfig.crop_images, end_path=LocationConfig.rgb, grayscale=False)"
   ]
  },
  {
   "cell_type": "code",
   "execution_count": 12,
   "metadata": {},
   "outputs": [],
   "source": [
    "def create_enc_ChaLearn(images_path, end_path):\n",
    "    create_new_data_directories(end_path)\n",
    "    df = pd.read_csv(LocationConfig.labels + 'bigfive_labels.csv')\n",
    "\n",
    "    df['ShortVideoName'] = get_short_video_name(df['VideoName'])\n",
    "\n",
    "    mean_df = create_mean_video_name_df(df)\n",
    "    mean_df.to_csv(LocationConfig.labels + 'bigfive_labels_mean.csv')\n",
    "    df = mean_df.set_index('ShortVideoName')\n",
    "    all_x = np.array(df.index)\n",
    "    X_train, X_test = train_test_split(\n",
    "        all_x, \n",
    "        test_size=CreateDataConfig.test_size_ratio,\n",
    "        random_state=1\n",
    "    )\n",
    "\n",
    "    images_dict_train = {'X':[], 'Y':[]}\n",
    "    images_dict_test = {'X':[], 'Y':[]}\n",
    "    total_files = len(fnmatch.filter(os.listdir(images_path), '*.png'))\n",
    "\n",
    "    for image_path in tqdm(Path(images_path).glob('*.png'), total=total_files):\n",
    "        img = face_recognition.load_image_file(str(image_path))\n",
    "        face_locations = face_recognition.face_locations(img, model=\"cnn\")\n",
    "        codes = face_recognition.face_encodings(img, known_face_locations=face_locations, model=\"large\")\n",
    "        if len(codes) < 1:\n",
    "            continue\n",
    "        image_group = image_path.name.split('.')[0]\n",
    "        Y = df.loc[image_group].values\n",
    "        image_no = image_path.name.split('.')[2][-5:]\n",
    "        if CreateDataConfig.classification:\n",
    "            Y = list(np.where(Y>CreateDataConfig.Y_threshold, 1, 0))\n",
    "        if image_group in X_test:\n",
    "            images_dict_test['X'].append(codes[0])\n",
    "            images_dict_test['Y'].append(Y)\n",
    "        else:\n",
    "            images_dict_train['X'].append(codes[0])\n",
    "            images_dict_train['Y'].append(Y)\n",
    "            \n",
    "    with open(end_path + 'train/train.pickle', 'wb') as handle:\n",
    "        pickle.dump(images_dict_train, handle, protocol=pickle.HIGHEST_PROTOCOL)\n",
    "    with open(end_path + 'test/test.pickle', 'wb') as handle:\n",
    "        pickle.dump(images_dict_test, handle, protocol=pickle.HIGHEST_PROTOCOL)"
   ]
  },
  {
   "cell_type": "code",
   "execution_count": 14,
   "metadata": {},
   "outputs": [],
   "source": [
    "create_enc_ChaLearn(LocationConfig.crop_images, LocationConfig.enc)"
   ]
  },
  {
   "cell_type": "markdown",
   "metadata": {},
   "source": [
    "# Create My Data"
   ]
  },
  {
   "cell_type": "code",
   "execution_count": 5,
   "metadata": {},
   "outputs": [
    {
     "name": "stderr",
     "output_type": "stream",
     "text": [
      "100%|██████████| 41/41 [00:00<00:00, 441.72it/s]\n",
      "100%|██████████| 41/41 [00:00<00:00, 358.59it/s]\n",
      "100%|██████████| 41/41 [00:00<00:00, 578.42it/s]\n",
      "100%|██████████| 41/41 [00:00<00:00, 303.05it/s]\n"
     ]
    }
   ],
   "source": [
    "def create_dataset(grayscale=False, data_type='BFD'):\n",
    "    images_path = f'data/DENTA/{data_type}/crop_images/'\n",
    "    df = pd.read_csv('data/DENTA/bigfive_labels.csv', index_col=0)\n",
    "    images_dict_test = {'num':[], 'X':[], 'Y':[]}\n",
    "    total_files = len(fnmatch.filter(os.listdir(images_path), '*.png'))\n",
    "\n",
    "    for image_path in tqdm(Path(images_path).glob('*.png'), total=total_files):\n",
    "        X = cv2.imread(str(image_path)) \n",
    "        if grayscale:\n",
    "            X = cv2.cvtColor(X, cv2.COLOR_BGR2GRAY)\n",
    "            X = np.expand_dims(X, axis=2)\n",
    "        Y = df.loc[image_path.name.split('.')[0]].values\n",
    "        if CreateDataConfig.classification:\n",
    "            Y = list(np.where(Y>CreateDataConfig.Y_threshold, 1, 0))\n",
    "        images_dict_test['num'].append(image_path.name.split('.')[0])\n",
    "        images_dict_test['X'].append(X)\n",
    "        images_dict_test['Y'].append(Y)\n",
    "    data_color = 'gray' if grayscale else 'rgb'\n",
    "    with open(f'data/DENTA/{data_type}/{data_color}/test/test.pickle', 'wb') as handle:\n",
    "        pickle.dump(images_dict_test, handle, protocol=pickle.HIGHEST_PROTOCOL)\n",
    "        \n",
    "create_dataset(grayscale=False, data_type='BFD')\n",
    "create_dataset(grayscale=True, data_type='BFD')\n",
    "create_dataset(grayscale=False, data_type='ChaLearn')\n",
    "create_dataset(grayscale=True, data_type='ChaLearn')"
   ]
  },
  {
   "cell_type": "code",
   "execution_count": 7,
   "metadata": {},
   "outputs": [
    {
     "name": "stderr",
     "output_type": "stream",
     "text": [
      "100%|██████████| 41/41 [05:30<00:00,  8.07s/it]\n",
      "100%|██████████| 41/41 [01:20<00:00,  1.95s/it]\n"
     ]
    }
   ],
   "source": [
    "import face_recognition\n",
    "\n",
    "def create_enc(data_type='BFD'):\n",
    "    images_path = f'data/DENTA/{data_type}/crop_images/'\n",
    "    df = pd.read_csv('data/DENTA/bigfive_labels.csv', index_col=0)\n",
    "    images_dict_test = {'num':[], 'X':[], 'Y':[]}\n",
    "    total_files = len(fnmatch.filter(os.listdir(images_path), '*.png'))\n",
    "\n",
    "    for image_path in tqdm(Path(images_path).glob('*.png'), total=total_files):\n",
    "        img = face_recognition.load_image_file(str(image_path))\n",
    "        face_locations = face_recognition.face_locations(img, model=\"cnn\")\n",
    "        codes = face_recognition.face_encodings(img, known_face_locations=face_locations, model=\"large\")\n",
    "        if len(codes) < 1:\n",
    "            continue\n",
    "        Y = df.loc[image_path.name.split('.')[0]].values\n",
    "        if CreateDataConfig.classification:\n",
    "            Y = list(np.where(Y>CreateDataConfig.Y_threshold, 1, 0))\n",
    "        images_dict_test['num'].append(image_path.name.split('.')[0])\n",
    "        images_dict_test['X'].append(codes[0])\n",
    "        images_dict_test['Y'].append(Y)\n",
    "            \n",
    "    with open(f'data/DENTA/{data_type}/enc/test/test.pickle', 'wb') as handle:\n",
    "        pickle.dump(images_dict_test, handle, protocol=pickle.HIGHEST_PROTOCOL)\n",
    "        \n",
    "create_enc(data_type='BFD')\n",
    "create_enc(data_type='ChaLearn')"
   ]
  }
 ],
 "metadata": {
  "interpreter": {
   "hash": "17c86be10898ce801771adcf76c16a8364cc4401ea312904bbbb2c75f131c156"
  },
  "kernelspec": {
   "display_name": "Python 3",
   "language": "python",
   "name": "python3"
  },
  "language_info": {
   "codemirror_mode": {
    "name": "ipython",
    "version": 3
   },
   "file_extension": ".py",
   "mimetype": "text/x-python",
   "name": "python",
   "nbconvert_exporter": "python",
   "pygments_lexer": "ipython3",
   "version": "3.8.5"
  }
 },
 "nbformat": 4,
 "nbformat_minor": 2
}
