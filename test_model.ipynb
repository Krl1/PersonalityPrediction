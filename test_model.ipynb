{
 "cells": [
  {
   "cell_type": "code",
   "execution_count": 1,
   "metadata": {},
   "outputs": [],
   "source": [
    "from params import LocationConfig, TrainingConfig, CreateDataConfig, NetworkConfig\n",
    "from datamodule import Datamodule\n",
    "from models.cnn8 import CNN8, CNN8simple\n",
    "from models.mlp import MLP, MLPsimple\n",
    "\n",
    "from pathlib import Path\n",
    "from tqdm import tqdm\n",
    "from glob import glob\n",
    "import numpy as np\n",
    "import cv2\n",
    "\n",
    "import torchvision.transforms as transforms\n",
    "from torch.nn import functional as F\n",
    "from torchsummary import summary\n",
    "import torch"
   ]
  },
  {
   "cell_type": "code",
   "execution_count": 2,
   "metadata": {},
   "outputs": [],
   "source": [
    "dataset_name = 'ChaLearn'\n",
    "dataset_type = 'enc'"
   ]
  },
  {
   "cell_type": "code",
   "execution_count": 3,
   "metadata": {},
   "outputs": [],
   "source": [
    "channel_size = 1 if dataset_type=='gray' else 3\n",
    "if dataset_name=='BFD':\n",
    "    input_shape = (311, 243, channel_size)\n",
    "else:\n",
    "    input_shape = (152, 114, channel_size)"
   ]
  },
  {
   "cell_type": "code",
   "execution_count": 4,
   "metadata": {},
   "outputs": [],
   "source": [
    "if dataset_type=='enc':\n",
    "    model = MLP(\n",
    "        lr=NetworkConfig.lr,\n",
    "        batch_norm=NetworkConfig.batch_norm,\n",
    "        negative_slope=NetworkConfig.negative_slope,\n",
    "        dropout = NetworkConfig.dropout\n",
    "        )\n",
    "    input_shape = (128,)\n",
    "else:\n",
    "    model = CNN8(\n",
    "            lr=NetworkConfig.lr,\n",
    "            batch_norm=NetworkConfig.batch_norm,\n",
    "            negative_slope=NetworkConfig.negative_slope,\n",
    "            dropout = NetworkConfig.dropout,\n",
    "            data_type = dataset_type,\n",
    "            dataset = dataset_name\n",
    "            )"
   ]
  },
  {
   "cell_type": "code",
   "execution_count": 5,
   "metadata": {},
   "outputs": [
    {
     "name": "stdout",
     "output_type": "stream",
     "text": [
      "----------------------------------------------------------------\n",
      "        Layer (type)               Output Shape         Param #\n",
      "================================================================\n",
      "            Linear-1                   [-1, 64]           8,256\n",
      "       BatchNorm1d-2                   [-1, 64]             128\n",
      "              ReLU-3                   [-1, 64]               0\n",
      "           Dropout-4                   [-1, 64]               0\n",
      "            Linear-5                   [-1, 32]           2,080\n",
      "       BatchNorm1d-6                   [-1, 32]              64\n",
      "              ReLU-7                   [-1, 32]               0\n",
      "           Dropout-8                   [-1, 32]               0\n",
      "            Linear-9                   [-1, 16]             528\n",
      "      BatchNorm1d-10                   [-1, 16]              32\n",
      "             ReLU-11                   [-1, 16]               0\n",
      "          Dropout-12                   [-1, 16]               0\n",
      "           Linear-13                    [-1, 8]             136\n",
      "      BatchNorm1d-14                    [-1, 8]              16\n",
      "             ReLU-15                    [-1, 8]               0\n",
      "          Dropout-16                    [-1, 8]               0\n",
      "           Linear-17                    [-1, 5]              45\n",
      "================================================================\n",
      "Total params: 11,285\n",
      "Trainable params: 11,285\n",
      "Non-trainable params: 0\n",
      "----------------------------------------------------------------\n",
      "Input size (MB): 0.00\n",
      "Forward/backward pass size (MB): 0.00\n",
      "Params size (MB): 0.04\n",
      "Estimated Total Size (MB): 0.05\n",
      "----------------------------------------------------------------\n"
     ]
    }
   ],
   "source": [
    "summary(model.cuda(), input_shape)"
   ]
  },
  {
   "cell_type": "code",
   "execution_count": 28,
   "metadata": {},
   "outputs": [],
   "source": [
    "dataset_name = 'BFD'\n",
    "dataset_type = 'enc'"
   ]
  },
  {
   "cell_type": "code",
   "execution_count": 29,
   "metadata": {},
   "outputs": [
    {
     "data": {
      "text/plain": [
       "'data/BFD/enc/train/'"
      ]
     },
     "execution_count": 29,
     "metadata": {},
     "output_type": "execute_result"
    }
   ],
   "source": [
    "f'data/{dataset_name}/{dataset_type}/train/'"
   ]
  },
  {
   "cell_type": "code",
   "execution_count": 30,
   "metadata": {},
   "outputs": [
    {
     "name": "stdout",
     "output_type": "stream",
     "text": [
      "file: data/BFD/enc/train/train.pickle\n",
      "file: data/BFD/enc/test/test.pickle\n"
     ]
    }
   ],
   "source": [
    "train_data_path = Path(f'data/{dataset_name}/{dataset_type}/train/')\n",
    "test_data_path = Path(f'data/{dataset_name}/{dataset_type}/test/')\n",
    "dm = Datamodule(\n",
    "        batch_size=TrainingConfig.batch_size,\n",
    "        train_dir=train_data_path,\n",
    "        val_dir=test_data_path,\n",
    "        )\n",
    "# dm.setup(val_only=True)\n",
    "dm.setup()"
   ]
  },
  {
   "cell_type": "code",
   "execution_count": 37,
   "metadata": {},
   "outputs": [],
   "source": [
    "from matplotlib import pyplot as plt\n",
    "i=0\n",
    "for batch in tqdm(dm.val_dataloader()):\n",
    "    image = batch['normalized'][0,:,:]\n",
    "    plt.figure()\n",
    "    plt.imshow(cv2.cvtColor(np.array(image), cv2.COLOR_BGR2RGB))\n",
    "    if i == 1:\n",
    "        break\n",
    "    i+=1"
   ]
  },
  {
   "cell_type": "code",
   "execution_count": 32,
   "metadata": {},
   "outputs": [
    {
     "name": "stderr",
     "output_type": "stream",
     "text": [
      "100%|██████████| 2/2 [00:00<00:00, 16.75it/s]"
     ]
    },
    {
     "name": "stdout",
     "output_type": "stream",
     "text": [
      "1/2\n",
      "[0.31818182 0.47727273 0.5        0.5        0.04545455]\n",
      "0.36818181818181817\n",
      "1\n",
      "[0.68181818 0.52272727 0.5        0.5        0.95454545]\n",
      "0.6318181818181818\n"
     ]
    },
    {
     "name": "stderr",
     "output_type": "stream",
     "text": [
      "\n"
     ]
    }
   ],
   "source": [
    "acc_class_global_1 = np.zeros(5)\n",
    "acc_class_global_12 = np.zeros(5)\n",
    "i=0\n",
    "for batch in tqdm(dm.val_dataloader()):\n",
    "    X, Y = batch['normalized'], batch['label']\n",
    "    Y_pred = np.zeros_like(Y)#cnn4.predict_step(X, None)\n",
    "    Y_pred_12 = np.where(Y_pred > 1/2, 1, 0)\n",
    "    Y_pred_1 = np.ones_like(Y)\n",
    "    acc_class_12 = np.sum(Y_pred_12 == np.array(Y), axis=0)# / len(Y)\n",
    "    acc_class_1 = np.sum(Y_pred_1 == np.array(Y), axis=0)# / len(Y)\n",
    "    acc_class_global_12 += acc_class_12\n",
    "    acc_class_global_1 += acc_class_1\n",
    "    i+=len(Y)\n",
    "acc_class_global_12 /= i\n",
    "print('1/2')\n",
    "print(acc_class_global_12)\n",
    "print(acc_class_global_12.mean())\n",
    "\n",
    "acc_class_global_1 /= i\n",
    "print('1')\n",
    "print(acc_class_global_1)\n",
    "print(acc_class_global_1.mean())"
   ]
  },
  {
   "cell_type": "code",
   "execution_count": 33,
   "metadata": {},
   "outputs": [],
   "source": [
    "a1 = acc_class_global_1 * i"
   ]
  },
  {
   "cell_type": "code",
   "execution_count": 34,
   "metadata": {},
   "outputs": [
    {
     "name": "stderr",
     "output_type": "stream",
     "text": [
      "100%|██████████| 13/13 [00:00<00:00, 79.68it/s]"
     ]
    },
    {
     "name": "stdout",
     "output_type": "stream",
     "text": [
      "1/2\n",
      "[0.34848485 0.28787879 0.25252525 0.36111111 0.40656566]\n",
      "0.33131313131313134\n",
      "1\n",
      "[0.65151515 0.71212121 0.74747475 0.63888889 0.59343434]\n",
      "0.6686868686868687\n"
     ]
    },
    {
     "name": "stderr",
     "output_type": "stream",
     "text": [
      "\n"
     ]
    }
   ],
   "source": [
    "acc_class_global_1 = np.zeros(5)\n",
    "acc_class_global_12 = np.zeros(5)\n",
    "j=0\n",
    "for batch in tqdm(dm.train_dataloader()):\n",
    "    X, Y = batch['normalized'], batch['label']\n",
    "    Y_pred = np.zeros_like(Y)#cnn4.predict_step(X, None)\n",
    "    Y_pred_12 = np.where(Y_pred > 1/2, 1, 0)\n",
    "    Y_pred_1 = np.ones_like(Y)\n",
    "    acc_class_12 = np.sum(Y_pred_12 == np.array(Y), axis=0)# / len(Y)\n",
    "    acc_class_1 = np.sum(Y_pred_1 == np.array(Y), axis=0)# / len(Y)\n",
    "    acc_class_global_12 += acc_class_12\n",
    "    acc_class_global_1 += acc_class_1\n",
    "    j+=len(Y)\n",
    "acc_class_global_12 /= j\n",
    "print('1/2')\n",
    "print(acc_class_global_12)\n",
    "print(acc_class_global_12.mean())\n",
    "\n",
    "acc_class_global_1 /= j\n",
    "print('1')\n",
    "print(acc_class_global_1)\n",
    "print(acc_class_global_1.mean())"
   ]
  },
  {
   "cell_type": "code",
   "execution_count": 35,
   "metadata": {},
   "outputs": [],
   "source": [
    "a2 = acc_class_global_1 * j"
   ]
  },
  {
   "cell_type": "code",
   "execution_count": 36,
   "metadata": {},
   "outputs": [
    {
     "data": {
      "text/plain": [
       "(array([0.65454545, 0.69318182, 0.72272727, 0.625     , 0.62954545]),\n",
       " 0.6649999999999999)"
      ]
     },
     "execution_count": 36,
     "metadata": {},
     "output_type": "execute_result"
    }
   ],
   "source": [
    "(a1+a2)/(i+j), ((a1+a2)/(i+j)).mean()"
   ]
  },
  {
   "cell_type": "code",
   "execution_count": null,
   "metadata": {},
   "outputs": [],
   "source": []
  },
  {
   "cell_type": "code",
   "execution_count": 36,
   "metadata": {},
   "outputs": [],
   "source": [
    "import torch\n",
    "import torchmetrics\n",
    "criterion = torch.nn.BCEWithLogitsLoss()\n",
    "accuracy = torchmetrics.Accuracy(threshold=0.5)\n",
    "y = torch.ones(10)"
   ]
  },
  {
   "cell_type": "code",
   "execution_count": 7,
   "metadata": {},
   "outputs": [
    {
     "data": {
      "text/plain": [
       "tensor([ 0.8589, -0.3716, -0.2427,  0.0539, -1.1996,  0.7497,  0.3292, -1.5459,\n",
       "        -0.1611, -0.1158])"
      ]
     },
     "execution_count": 7,
     "metadata": {},
     "output_type": "execute_result"
    }
   ],
   "source": [
    "torch.randn(10)"
   ]
  },
  {
   "cell_type": "code",
   "execution_count": 43,
   "metadata": {},
   "outputs": [
    {
     "name": "stdout",
     "output_type": "stream",
     "text": [
      "tensor(0.0001) tensor(1.)\n",
      "tensor(0.3133) tensor(1.)\n",
      "tensor(0.4741) tensor(1.)\n",
      "tensor(0.6931) tensor(0.)\n",
      "tensor(1.3133) tensor(0.)\n"
     ]
    }
   ],
   "source": [
    "print(criterion(torch.ones(10)*9, torch.ones(10)), accuracy(torch.ones(10)*9, torch.ones(10).to(torch.int64)))\n",
    "print(criterion(torch.ones(10), torch.ones(10)), accuracy(torch.ones(10), torch.ones(10).to(torch.int64)))\n",
    "print(criterion(torch.ones(10)/2, torch.ones(10)), accuracy(torch.ones(10)/2, torch.ones(10).to(torch.int64)))\n",
    "print(criterion(torch.zeros(10), torch.ones(10)), accuracy(torch.zeros(10), torch.ones(10).to(torch.int64)))\n",
    "print(criterion(torch.ones(10)*(-1), torch.ones(10)), accuracy(torch.ones(10)*(-1), torch.ones(10).to(torch.int64)))"
   ]
  },
  {
   "cell_type": "code",
   "execution_count": 46,
   "metadata": {},
   "outputs": [
    {
     "name": "stdout",
     "output_type": "stream",
     "text": [
      "tensor(0.6444) tensor(0.)\n",
      "tensor(0.7444) tensor(0.)\n",
      "tensor(0.6931) tensor(1.)\n",
      "tensor(0.6931) tensor(1.)\n",
      "\n",
      "tensor(0.6444) tensor(1.)\n",
      "tensor(0.7444) tensor(0.)\n",
      "tensor(0.6931) tensor(0.)\n",
      "tensor(0.6931) tensor(0.)\n"
     ]
    }
   ],
   "source": [
    "accuracy = torchmetrics.Accuracy(threshold=0.5)\n",
    "print(criterion(torch.ones(10)*0.1, torch.ones(10)), accuracy(torch.ones(10)*0.1, torch.ones(10).to(torch.int64)))\n",
    "print(criterion(torch.ones(10)*(-0.1), torch.ones(10)), accuracy(torch.ones(10)*(-0.1), torch.ones(10).to(torch.int64)))\n",
    "print(criterion(torch.zeros(10)*0.1, torch.zeros(10)), accuracy(torch.zeros(10)*0.1, torch.zeros(10).to(torch.int64)))\n",
    "print(criterion(torch.zeros(10)*(-0.1), torch.zeros(10)), accuracy(torch.zeros(10)*(-0.1), torch.zeros(10).to(torch.int64)))\n",
    "accuracy = torchmetrics.Accuracy(threshold=0.0)\n",
    "print()\n",
    "print(criterion(torch.ones(10)*0.1, torch.ones(10)), accuracy(torch.ones(10)*0.1, torch.ones(10).to(torch.int64)))\n",
    "print(criterion(torch.ones(10)*(-0.1), torch.ones(10)), accuracy(torch.ones(10)*(-0.1), torch.ones(10).to(torch.int64)))\n",
    "print(criterion(torch.zeros(10)*0.1, torch.zeros(10)), accuracy(torch.zeros(10)*0.1, torch.zeros(10).to(torch.int64)))\n",
    "print(criterion(torch.zeros(10)*(-0.1), torch.zeros(10)), accuracy(torch.zeros(10)*(-0.1), torch.zeros(10).to(torch.int64)))"
   ]
  },
  {
   "cell_type": "code",
   "execution_count": 42,
   "metadata": {},
   "outputs": [
    {
     "name": "stdout",
     "output_type": "stream",
     "text": [
      "tensor(9.0001) tensor(0.)\n",
      "tensor(1.3133) tensor(0.)\n",
      "tensor(0.9741) tensor(0.)\n",
      "tensor(0.6931) tensor(1.)\n",
      "tensor(0.3133) tensor(1.)\n"
     ]
    }
   ],
   "source": [
    "print(criterion(torch.ones(10)*9, torch.zeros(10)), accuracy(torch.ones(10)*9, torch.zeros(10).to(torch.int64)))\n",
    "print(criterion(torch.ones(10), torch.zeros(10)), accuracy(torch.ones(10), torch.zeros(10).to(torch.int64)))\n",
    "print(criterion(torch.ones(10)/2, torch.zeros(10)), accuracy(torch.ones(10)/2, torch.zeros(10).to(torch.int64)))\n",
    "print(criterion(torch.zeros(10), torch.zeros(10)), accuracy(torch.zeros(10), torch.zeros(10).to(torch.int64)))\n",
    "print(criterion(torch.ones(10)*(-1), torch.zeros(10)), accuracy(torch.ones(10)*(-1), torch.zeros(10).to(torch.int64)))"
   ]
  },
  {
   "cell_type": "code",
   "execution_count": null,
   "metadata": {},
   "outputs": [],
   "source": []
  },
  {
   "cell_type": "code",
   "execution_count": 29,
   "metadata": {},
   "outputs": [
    {
     "data": {
      "text/plain": [
       "tensor(0.7311)"
      ]
     },
     "execution_count": 29,
     "metadata": {},
     "output_type": "execute_result"
    }
   ],
   "source": [
    "torch.sigmoid(torch.tensor(1))"
   ]
  }
 ],
 "metadata": {
  "interpreter": {
   "hash": "17c86be10898ce801771adcf76c16a8364cc4401ea312904bbbb2c75f131c156"
  },
  "kernelspec": {
   "display_name": "py39",
   "language": "python",
   "name": "python3"
  },
  "language_info": {
   "codemirror_mode": {
    "name": "ipython",
    "version": 3
   },
   "file_extension": ".py",
   "mimetype": "text/x-python",
   "name": "python",
   "nbconvert_exporter": "python",
   "pygments_lexer": "ipython3",
   "version": "3.8.5"
  }
 },
 "nbformat": 4,
 "nbformat_minor": 2
}
