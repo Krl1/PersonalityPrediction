{
 "cells": [
  {
   "cell_type": "code",
   "execution_count": 2,
   "metadata": {},
   "outputs": [],
   "source": [
    "from params import LocationConfig, TrainingConfig, CreateDataConfig, NetworkConfig\n",
    "from datamodule import Datamodule\n",
    "from models.cnn8 import CNN8, CNN8simple\n",
    "from models.mlp import MLP, MLPsimple\n",
    "\n",
    "from pathlib import Path\n",
    "from tqdm import tqdm\n",
    "from glob import glob\n",
    "import numpy as np\n",
    "import cv2\n",
    "\n",
    "import torchvision.transforms as transforms\n",
    "from torch.nn import functional as F\n",
    "from torchsummary import summary\n",
    "import torch"
   ]
  },
  {
   "cell_type": "code",
   "execution_count": 23,
   "metadata": {},
   "outputs": [],
   "source": [
    "dataset_name = 'BFD'\n",
    "dataset_type = 'enc'"
   ]
  },
  {
   "cell_type": "code",
   "execution_count": 24,
   "metadata": {},
   "outputs": [],
   "source": [
    "channel_size = 1 if dataset_type=='gray' else 3\n",
    "if dataset_name=='BFD':\n",
    "    input_shape = (311, 243, channel_size)\n",
    "else:\n",
    "    input_shape = (152, 114, channel_size)"
   ]
  },
  {
   "cell_type": "code",
   "execution_count": 25,
   "metadata": {},
   "outputs": [],
   "source": [
    "if dataset_type=='enc':\n",
    "    model = MLP(\n",
    "        lr=NetworkConfig.lr,\n",
    "        batch_norm=NetworkConfig.batch_norm,\n",
    "        negative_slope=NetworkConfig.negative_slope,\n",
    "        dropout = NetworkConfig.dropout\n",
    "        )\n",
    "    input_shape = (128,)\n",
    "else:\n",
    "    model = CNN8(\n",
    "            lr=NetworkConfig.lr,\n",
    "            batch_norm=NetworkConfig.batch_norm,\n",
    "            negative_slope=NetworkConfig.negative_slope,\n",
    "            dropout = NetworkConfig.dropout,\n",
    "            data_type = dataset_type,\n",
    "            dataset = dataset_name\n",
    "            )"
   ]
  },
  {
   "cell_type": "code",
   "execution_count": 26,
   "metadata": {},
   "outputs": [
    {
     "name": "stdout",
     "output_type": "stream",
     "text": [
      "----------------------------------------------------------------\n",
      "        Layer (type)               Output Shape         Param #\n",
      "================================================================\n",
      "            Linear-1                   [-1, 64]           8,256\n",
      "       BatchNorm1d-2                   [-1, 64]             128\n",
      "              ReLU-3                   [-1, 64]               0\n",
      "           Dropout-4                   [-1, 64]               0\n",
      "            Linear-5                   [-1, 32]           2,080\n",
      "       BatchNorm1d-6                   [-1, 32]              64\n",
      "              ReLU-7                   [-1, 32]               0\n",
      "           Dropout-8                   [-1, 32]               0\n",
      "            Linear-9                   [-1, 16]             528\n",
      "      BatchNorm1d-10                   [-1, 16]              32\n",
      "             ReLU-11                   [-1, 16]               0\n",
      "          Dropout-12                   [-1, 16]               0\n",
      "           Linear-13                    [-1, 8]             136\n",
      "      BatchNorm1d-14                    [-1, 8]              16\n",
      "             ReLU-15                    [-1, 8]               0\n",
      "          Dropout-16                    [-1, 8]               0\n",
      "           Linear-17                    [-1, 5]              45\n",
      "================================================================\n",
      "Total params: 11,285\n",
      "Trainable params: 11,285\n",
      "Non-trainable params: 0\n",
      "----------------------------------------------------------------\n",
      "Input size (MB): 0.00\n",
      "Forward/backward pass size (MB): 0.00\n",
      "Params size (MB): 0.04\n",
      "Estimated Total Size (MB): 0.05\n",
      "----------------------------------------------------------------\n"
     ]
    }
   ],
   "source": [
    "summary(model.cuda(), input_shape)"
   ]
  },
  {
   "cell_type": "code",
   "execution_count": 4,
   "metadata": {},
   "outputs": [
    {
     "data": {
      "text/plain": [
       "tensor([[[ 0.2577,  0.2794, -0.0790],\n",
       "         [ 0.3109, -0.0686,  0.0687],\n",
       "         [-0.1655,  0.1929,  0.2899]]])"
      ]
     },
     "execution_count": 4,
     "metadata": {},
     "output_type": "execute_result"
    }
   ],
   "source": [
    "checkpoints_dir = Path(LocationConfig.checkpoints_dir)\n",
    "list_of_checkpoints = list(checkpoints_dir.glob(\"*.ckpt\"))\n",
    "latest_checkpoint_path = max(list_of_checkpoints, key=lambda p: p.stat().st_ctime)\n",
    "\n",
    "cnn4 = CNN4(lr=0.0001, batch_norm=False, dropout=0.2, batch_size=2, negative_slope=0.0)\\\n",
    "    .load_from_checkpoint(checkpoint_path=latest_checkpoint_path)\n",
    "cnn4.eval();\n",
    "cnn4.state_dict()['conv.conv_0.weight'][0]"
   ]
  },
  {
   "cell_type": "code",
   "execution_count": 2,
   "metadata": {},
   "outputs": [
    {
     "name": "stdout",
     "output_type": "stream",
     "text": [
      "file: data/ChaLearn/rgb/test/test.pickle\n"
     ]
    }
   ],
   "source": [
    "train_data_path = Path(LocationConfig.data + 'train')\n",
    "test_data_path = Path(LocationConfig.data + 'test')\n",
    "dm = Datamodule(\n",
    "        batch_size=TrainingConfig.batch_size,\n",
    "        train_dir=train_data_path,\n",
    "        val_dir=test_data_path,\n",
    "        )\n",
    "dm.setup(val_only=True)\n",
    "# dm.setup()"
   ]
  },
  {
   "cell_type": "code",
   "execution_count": 4,
   "metadata": {},
   "outputs": [
    {
     "name": "stderr",
     "output_type": "stream",
     "text": [
      "  1%|          | 1/94 [00:00<00:32,  2.83it/s]\n"
     ]
    },
    {
     "data": {
      "image/png": "[encoded data removed]",
      "text/plain": [
       "<Figure size 432x288 with 1 Axes>"
      ]
     },
     "metadata": {
      "needs_background": "light"
     },
     "output_type": "display_data"
    },
    {
     "data": {
      "image/png": "[encoded data removed]",
      "text/plain": [
       "<Figure size 432x288 with 1 Axes>"
      ]
     },
     "metadata": {
      "needs_background": "light"
     },
     "output_type": "display_data"
    }
   ],
   "source": [
    "from matplotlib import pyplot as plt\n",
    "i=0\n",
    "for batch in tqdm(dm.val_dataloader()):\n",
    "    image = batch['normalized'][0,:,:]\n",
    "    plt.figure()\n",
    "    plt.imshow(cv2.cvtColor(np.array(image), cv2.COLOR_BGR2RGB))\n",
    "    if i == 1:\n",
    "        break\n",
    "    i+=1"
   ]
  },
  {
   "cell_type": "code",
   "execution_count": 5,
   "metadata": {},
   "outputs": [
    {
     "name": "stderr",
     "output_type": "stream",
     "text": [
      "100%|██████████| 94/94 [00:04<00:00, 23.05it/s]"
     ]
    },
    {
     "name": "stdout",
     "output_type": "stream",
     "text": [
      "1/2\n",
      "[0.58144947 0.29742908 0.41182772 0.43384309 0.25369385]\n",
      "0.3956486406619385\n",
      "1\n",
      "[0.41855053 0.70257092 0.58817228 0.56615691 0.74630615]\n",
      "0.6043513593380614\n"
     ]
    },
    {
     "name": "stderr",
     "output_type": "stream",
     "text": [
      "\n"
     ]
    }
   ],
   "source": [
    "acc_class_global_1 = np.zeros(5)\n",
    "acc_class_global_12 = np.zeros(5)\n",
    "i=0\n",
    "for batch in tqdm(dm.val_dataloader()):\n",
    "    X, Y = batch['normalized'], batch['label']\n",
    "    Y_pred = np.zeros_like(Y)#cnn4.predict_step(X, None)\n",
    "    Y_pred_12 = np.where(Y_pred > 1/2, 1, 0)\n",
    "    Y_pred_1 = np.ones_like(Y)\n",
    "    acc_class_12 = np.sum(Y_pred_12 == np.array(Y), axis=0) / len(Y)\n",
    "    acc_class_1 = np.sum(Y_pred_1 == np.array(Y), axis=0) / len(Y)\n",
    "    acc_class_global_12 += acc_class_12\n",
    "    acc_class_global_1 += acc_class_1\n",
    "    i+=1\n",
    "acc_class_global_12 /= i\n",
    "print('1/2')\n",
    "print(acc_class_global_12)\n",
    "print(acc_class_global_12.mean())\n",
    "\n",
    "acc_class_global_1 /= i\n",
    "print('1')\n",
    "print(acc_class_global_1)\n",
    "print(acc_class_global_1.mean())"
   ]
  },
  {
   "cell_type": "code",
   "execution_count": 6,
   "metadata": {},
   "outputs": [
    {
     "name": "stderr",
     "output_type": "stream",
     "text": [
      "100%|██████████| 13/13 [00:00<00:00, 22.78it/s]"
     ]
    },
    {
     "name": "stdout",
     "output_type": "stream",
     "text": [
      "1/2\n",
      "[0.36298077 0.31971154 0.28044872 0.40384615 0.35336538]\n",
      "0.3440705128205128\n",
      "1\n",
      "[0.63701923 0.68028846 0.71955128 0.59615385 0.64663462]\n",
      "0.6559294871794872\n"
     ]
    },
    {
     "name": "stderr",
     "output_type": "stream",
     "text": [
      "\n"
     ]
    }
   ],
   "source": [
    "acc_class_global_1 = np.zeros(5)\n",
    "acc_class_global_12 = np.zeros(5)\n",
    "i=0\n",
    "for batch in tqdm(dm.train_dataloader()):\n",
    "    X, Y = batch['normalized'], batch['label']\n",
    "    Y_pred = np.zeros_like(Y)#cnn4.predict_step(X, None)\n",
    "    Y_pred_12 = np.where(Y_pred > 1/2, 1, 0)\n",
    "    Y_pred_1 = np.ones_like(Y)\n",
    "    acc_class_12 = np.sum(Y_pred_12 == np.array(Y), axis=0) / len(Y)\n",
    "    acc_class_1 = np.sum(Y_pred_1 == np.array(Y), axis=0) / len(Y)\n",
    "    acc_class_global_12 += acc_class_12\n",
    "    acc_class_global_1 += acc_class_1\n",
    "    i+=1\n",
    "acc_class_global_12 /= i\n",
    "print('1/2')\n",
    "print(acc_class_global_12)\n",
    "print(acc_class_global_12.mean())\n",
    "\n",
    "acc_class_global_1 /= i\n",
    "print('1')\n",
    "print(acc_class_global_1)\n",
    "print(acc_class_global_1.mean())"
   ]
  },
  {
   "cell_type": "code",
   "execution_count": 36,
   "metadata": {},
   "outputs": [],
   "source": [
    "import torch\n",
    "import torchmetrics\n",
    "criterion = torch.nn.BCEWithLogitsLoss()\n",
    "accuracy = torchmetrics.Accuracy(threshold=0.5)\n",
    "y = torch.ones(10)"
   ]
  },
  {
   "cell_type": "code",
   "execution_count": 7,
   "metadata": {},
   "outputs": [
    {
     "data": {
      "text/plain": [
       "tensor([ 0.8589, -0.3716, -0.2427,  0.0539, -1.1996,  0.7497,  0.3292, -1.5459,\n",
       "        -0.1611, -0.1158])"
      ]
     },
     "execution_count": 7,
     "metadata": {},
     "output_type": "execute_result"
    }
   ],
   "source": [
    "torch.randn(10)"
   ]
  },
  {
   "cell_type": "code",
   "execution_count": 43,
   "metadata": {},
   "outputs": [
    {
     "name": "stdout",
     "output_type": "stream",
     "text": [
      "tensor(0.0001) tensor(1.)\n",
      "tensor(0.3133) tensor(1.)\n",
      "tensor(0.4741) tensor(1.)\n",
      "tensor(0.6931) tensor(0.)\n",
      "tensor(1.3133) tensor(0.)\n"
     ]
    }
   ],
   "source": [
    "print(criterion(torch.ones(10)*9, torch.ones(10)), accuracy(torch.ones(10)*9, torch.ones(10).to(torch.int64)))\n",
    "print(criterion(torch.ones(10), torch.ones(10)), accuracy(torch.ones(10), torch.ones(10).to(torch.int64)))\n",
    "print(criterion(torch.ones(10)/2, torch.ones(10)), accuracy(torch.ones(10)/2, torch.ones(10).to(torch.int64)))\n",
    "print(criterion(torch.zeros(10), torch.ones(10)), accuracy(torch.zeros(10), torch.ones(10).to(torch.int64)))\n",
    "print(criterion(torch.ones(10)*(-1), torch.ones(10)), accuracy(torch.ones(10)*(-1), torch.ones(10).to(torch.int64)))"
   ]
  },
  {
   "cell_type": "code",
   "execution_count": 46,
   "metadata": {},
   "outputs": [
    {
     "name": "stdout",
     "output_type": "stream",
     "text": [
      "tensor(0.6444) tensor(0.)\n",
      "tensor(0.7444) tensor(0.)\n",
      "tensor(0.6931) tensor(1.)\n",
      "tensor(0.6931) tensor(1.)\n",
      "\n",
      "tensor(0.6444) tensor(1.)\n",
      "tensor(0.7444) tensor(0.)\n",
      "tensor(0.6931) tensor(0.)\n",
      "tensor(0.6931) tensor(0.)\n"
     ]
    }
   ],
   "source": [
    "accuracy = torchmetrics.Accuracy(threshold=0.5)\n",
    "print(criterion(torch.ones(10)*0.1, torch.ones(10)), accuracy(torch.ones(10)*0.1, torch.ones(10).to(torch.int64)))\n",
    "print(criterion(torch.ones(10)*(-0.1), torch.ones(10)), accuracy(torch.ones(10)*(-0.1), torch.ones(10).to(torch.int64)))\n",
    "print(criterion(torch.zeros(10)*0.1, torch.zeros(10)), accuracy(torch.zeros(10)*0.1, torch.zeros(10).to(torch.int64)))\n",
    "print(criterion(torch.zeros(10)*(-0.1), torch.zeros(10)), accuracy(torch.zeros(10)*(-0.1), torch.zeros(10).to(torch.int64)))\n",
    "accuracy = torchmetrics.Accuracy(threshold=0.0)\n",
    "print()\n",
    "print(criterion(torch.ones(10)*0.1, torch.ones(10)), accuracy(torch.ones(10)*0.1, torch.ones(10).to(torch.int64)))\n",
    "print(criterion(torch.ones(10)*(-0.1), torch.ones(10)), accuracy(torch.ones(10)*(-0.1), torch.ones(10).to(torch.int64)))\n",
    "print(criterion(torch.zeros(10)*0.1, torch.zeros(10)), accuracy(torch.zeros(10)*0.1, torch.zeros(10).to(torch.int64)))\n",
    "print(criterion(torch.zeros(10)*(-0.1), torch.zeros(10)), accuracy(torch.zeros(10)*(-0.1), torch.zeros(10).to(torch.int64)))"
   ]
  },
  {
   "cell_type": "code",
   "execution_count": 42,
   "metadata": {},
   "outputs": [
    {
     "name": "stdout",
     "output_type": "stream",
     "text": [
      "tensor(9.0001) tensor(0.)\n",
      "tensor(1.3133) tensor(0.)\n",
      "tensor(0.9741) tensor(0.)\n",
      "tensor(0.6931) tensor(1.)\n",
      "tensor(0.3133) tensor(1.)\n"
     ]
    }
   ],
   "source": [
    "print(criterion(torch.ones(10)*9, torch.zeros(10)), accuracy(torch.ones(10)*9, torch.zeros(10).to(torch.int64)))\n",
    "print(criterion(torch.ones(10), torch.zeros(10)), accuracy(torch.ones(10), torch.zeros(10).to(torch.int64)))\n",
    "print(criterion(torch.ones(10)/2, torch.zeros(10)), accuracy(torch.ones(10)/2, torch.zeros(10).to(torch.int64)))\n",
    "print(criterion(torch.zeros(10), torch.zeros(10)), accuracy(torch.zeros(10), torch.zeros(10).to(torch.int64)))\n",
    "print(criterion(torch.ones(10)*(-1), torch.zeros(10)), accuracy(torch.ones(10)*(-1), torch.zeros(10).to(torch.int64)))"
   ]
  },
  {
   "cell_type": "code",
   "execution_count": null,
   "metadata": {},
   "outputs": [],
   "source": []
  },
  {
   "cell_type": "code",
   "execution_count": 29,
   "metadata": {},
   "outputs": [
    {
     "data": {
      "text/plain": [
       "tensor(0.7311)"
      ]
     },
     "execution_count": 29,
     "metadata": {},
     "output_type": "execute_result"
    }
   ],
   "source": [
    "torch.sigmoid(torch.tensor(1))"
   ]
  }
 ],
 "metadata": {
  "interpreter": {
   "hash": "17c86be10898ce801771adcf76c16a8364cc4401ea312904bbbb2c75f131c156"
  },
  "kernelspec": {
   "display_name": "py39",
   "language": "python",
   "name": "py39"
  },
  "language_info": {
   "codemirror_mode": {
    "name": "ipython",
    "version": 3
   },
   "file_extension": ".py",
   "mimetype": "text/x-python",
   "name": "python",
   "nbconvert_exporter": "python",
   "pygments_lexer": "ipython3",
   "version": "3.9.7"
  }
 },
 "nbformat": 4,
 "nbformat_minor": 2
}
